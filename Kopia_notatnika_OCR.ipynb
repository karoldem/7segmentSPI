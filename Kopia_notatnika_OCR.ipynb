{
  "nbformat": 4,
  "nbformat_minor": 0,
  "metadata": {
    "colab": {
      "name": "Kopia notatnika OCR.ipynb",
      "provenance": [],
      "collapsed_sections": [],
      "include_colab_link": true
    },
    "kernelspec": {
      "name": "python3",
      "display_name": "Python 3"
    }
  },
  "cells": [
    {
      "cell_type": "markdown",
      "metadata": {
        "id": "view-in-github",
        "colab_type": "text"
      },
      "source": [
        "<a href=\"https://colab.research.google.com/github/karoldem/7segmentSPI/blob/main/Kopia_notatnika_OCR.ipynb\" target=\"_parent\"><img src=\"https://colab.research.google.com/assets/colab-badge.svg\" alt=\"Open In Colab\"/></a>"
      ]
    },
    {
      "cell_type": "code",
      "source": [
        "select_comic_properties(\n",
        "    pageUrl = 'http://xkcd.com',\n",
        "    firstComicURL = 'http://xkcd.com',\n",
        "    lastComicURL = 'http://xkcd.com/2568/',\n",
        "    findThoseWordsInText = ['BEAM', 'LIFT', 'AVOID', 'PULLING' 'THROUGH', 'LIGHTS'])"
      ],
      "metadata": {
        "id": "0tqWNLMczVdG"
      },
      "execution_count": null,
      "outputs": []
    },
    {
      "cell_type": "code",
      "metadata": {
        "id": "uWwpI-24_Nob"
      },
      "source": [
        "!sudo apt install tesseract-ocr\n",
        "!pip install pytesseract\n",
        "#https://www.linkedin.com/pulse/open-source-ocr-using-tesseract-google-colab-suyesha-bhattacharjee/"
      ],
      "execution_count": null,
      "outputs": []
    },
    {
      "cell_type": "code",
      "metadata": {
        "id": "HaM3cMUDA_Ma"
      },
      "source": [
        "import requests, os, bs4\n",
        "from io import BytesIO\n",
        "import pytesseract\n",
        "import shutil\n",
        "import os\n",
        "import random\n",
        "\n",
        "try:\n",
        "    from PIL import Image\n",
        "except ImportError:\n",
        "    import Image\n",
        "\n",
        "def extractText(pageUrl, firstComicURL, lastComicURL, findThoseWordsInText, selectNextComic):\n",
        "\n",
        "  wordCounter = {}\n",
        "  turnOffOCR = False\n",
        "  url = pageUrl\n",
        "\n",
        "  while not url == lastComicURL:\n",
        "      \n",
        "      res = requests.get(url)\n",
        "      res.raise_for_status()\n",
        "      soup = bs4.BeautifulSoup(res.text)\n",
        "      comicElem = soup.select('#comic img')\n",
        "\n",
        "      if comicElem == []:\n",
        "        res = requests.get(url)\n",
        "        res.raise_for_status()\n",
        "        soup = bs4.BeautifulSoup(res.text)\n",
        "        comicElem = soup.select('#comic img')\n",
        "\n",
        "      if comicElem == []:\n",
        "          wordCounter[url] = 0\n",
        "      else:\n",
        "          try:\n",
        "                comicUrl = 'http:' + comicElem[0].get('src')\n",
        "                res = requests.get(comicUrl)\n",
        "                res.raise_for_status()\n",
        "                img = Image.open(BytesIO(res.content))\n",
        "\n",
        "                if not turnOffOCR:\n",
        "                  comicText = pytesseract.image_to_string(img)\n",
        "\n",
        "                  for i in findThoseWordsInText:\n",
        "                    if i in comicText:\n",
        "\n",
        "                      try:\n",
        "                        wordCounter[url] +=1\n",
        "                      except:\n",
        "                        wordCounter[url] = 1\n",
        "                else:\n",
        "                  print (url)\n",
        "\n",
        "          except Exception as e:\n",
        "                wordCounter[url] = 0\n",
        "                print(e)\n",
        "\n",
        "\n",
        "      try: \n",
        "          prevLink = soup.select('a[rel=\"prev\"]')[0]\n",
        "          url = pageUrl + prevLink.get('href')\n",
        "      except:\n",
        "          break\n",
        "\n",
        "  return wordCounter"
      ],
      "execution_count": null,
      "outputs": []
    },
    {
      "cell_type": "code",
      "source": [
        "def select_comic_properties(pageUrl, firstComicURL, lastComicURL, findThoseWordsInText):\n",
        "\n",
        "  if pageUrl == 'http://xkcd.com':\n",
        "    return extractText(pageUrl, firstComicURL, lastComicURL, findThoseWordsInText, selectNextComic = 'a[rel=\"prev\"]')\n",
        "  \n",
        "  return 'Sorry, this page is not supported'"
      ],
      "metadata": {
        "id": "P3q9mxW9pKio"
      },
      "execution_count": null,
      "outputs": []
    },
    {
      "cell_type": "code",
      "source": [
        "res = requests.get('https://www.smbc-comics.com/comic/perfect')\n",
        "res.raise_for_status()\n",
        "soup = bs4.BeautifulSoup(res.text)\n",
        "comicElem = soup.select('a[rel=\"prev\"]')\n",
        "comicElem"
      ],
      "metadata": {
        "colab": {
          "base_uri": "https://localhost:8080/"
        },
        "id": "d8kJzgLdycni",
        "outputId": "c4594db0-7bf3-420e-cf7c-ad850991903e"
      },
      "execution_count": null,
      "outputs": [
        {
          "output_type": "execute_result",
          "data": {
            "text/plain": [
              "[<a class=\"cc-prev\" href=\"https://www.smbc-comics.com/comic/engineering\" rel=\"prev\"></a>,\n",
              " <a class=\"cc-prev\" href=\"https://www.smbc-comics.com/comic/engineering\" rel=\"prev\"></a>]"
            ]
          },
          "metadata": {},
          "execution_count": 6
        }
      ]
    },
    {
      "cell_type": "code",
      "source": [
        "res = requests.get('https://www.smbc-comics.com/comic/perfect')\n",
        "res.raise_for_status()\n",
        "soup = bs4.BeautifulSoup(res.text)\n",
        "comicElem = soup.select('#cc-comic')\n",
        "comicElem"
      ],
      "metadata": {
        "colab": {
          "base_uri": "https://localhost:8080/"
        },
        "id": "Irf3oTfBCL0o",
        "outputId": "0971d8ba-1498-4f58-d786-775bdb048ec3"
      },
      "execution_count": null,
      "outputs": [
        {
          "output_type": "execute_result",
          "data": {
            "text/plain": [
              "[<img id=\"cc-comic\" src=\"https://www.smbc-comics.com/comics/1622816607-20210604.png\" title=\"You can send emails of correction by writing them out in detail and then pressing the discard button.\"/>]"
            ]
          },
          "metadata": {},
          "execution_count": 9
        }
      ]
    },
    {
      "cell_type": "code",
      "source": [
        "res = requests.get('http://xkcd.com')\n",
        "res.raise_for_status()\n",
        "soup = bs4.BeautifulSoup(res.text)\n",
        "comicElem = soup.select('a[rel=\"prev\"]')\n",
        "comicElem"
      ],
      "metadata": {
        "colab": {
          "base_uri": "https://localhost:8080/"
        },
        "id": "YJdpztiRDP7U",
        "outputId": "01daac10-b909-4bb8-8dd3-9683bc5f5b41"
      },
      "execution_count": null,
      "outputs": [
        {
          "output_type": "execute_result",
          "data": {
            "text/plain": [
              "[<a accesskey=\"p\" href=\"/2579/\" rel=\"prev\">&lt; Prev</a>,\n",
              " <a accesskey=\"p\" href=\"/2579/\" rel=\"prev\">&lt; Prev</a>]"
            ]
          },
          "metadata": {},
          "execution_count": 13
        }
      ]
    }
  ]
}